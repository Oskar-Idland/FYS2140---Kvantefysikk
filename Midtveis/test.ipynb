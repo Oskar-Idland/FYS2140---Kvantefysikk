{
 "cells": [
  {
   "cell_type": "code",
   "execution_count": 23,
   "metadata": {},
   "outputs": [
    {
     "name": "stdout",
     "output_type": "stream",
     "text": [
      " 99.3%\n"
     ]
    }
   ],
   "source": [
    "from numpy import sin\n",
    "def c(n):\n",
    "    return (2**.5 *(4.48 * 10**13 * n**5 + 1.47 * 10**37 * n**4 * sin(1.57*n) + 9.08 * 10**16 * n**3 + 2.99 * 10**40 * n**2 * sin(1.57*n) + 4.60 * 10**19 * n + 1.51 * 10**43 * sin(1.57*n)) / (7.30 * 10**34 * n**6 + 2.21 * 10**38 * n**4 + 2.24 * 10**41 * n**2 + 7.59 * 10**43))\n",
    "\n",
    "s = 0\n",
    "for n in range(1, 20000):\n",
    "    s += abs(c(n))**2\n",
    "    \n",
    "print(f'{s: .1%}')"
   ]
  }
 ],
 "metadata": {
  "kernelspec": {
   "display_name": "base",
   "language": "python",
   "name": "python3"
  },
  "language_info": {
   "codemirror_mode": {
    "name": "ipython",
    "version": 3
   },
   "file_extension": ".py",
   "mimetype": "text/x-python",
   "name": "python",
   "nbconvert_exporter": "python",
   "pygments_lexer": "ipython3",
   "version": "3.9.13"
  },
  "orig_nbformat": 4
 },
 "nbformat": 4,
 "nbformat_minor": 2
}
